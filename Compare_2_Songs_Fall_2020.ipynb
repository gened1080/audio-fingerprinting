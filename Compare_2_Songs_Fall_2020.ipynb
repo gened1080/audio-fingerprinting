{
  "nbformat": 4,
  "nbformat_minor": 0,
  "metadata": {
    "kernelspec": {
      "display_name": "python3",
      "language": "python",
      "name": "python3"
    },
    "language_info": {
      "codemirror_mode": {
        "name": "ipython",
        "version": 3
      },
      "file_extension": ".py",
      "mimetype": "text/x-python",
      "name": "python",
      "nbconvert_exporter": "python",
      "pygments_lexer": "ipython3",
      "version": "3.7.3"
    },
    "colab": {
      "name": "Compare 2 Songs Fall 2020.ipynb",
      "provenance": [],
      "include_colab_link": true
    }
  },
  "cells": [
    {
      "cell_type": "markdown",
      "metadata": {
        "id": "view-in-github",
        "colab_type": "text"
      },
      "source": [
        "<a href=\"https://colab.research.google.com/github/gened1080/audio-fingerprinting/blob/master/Compare_2_Songs_Fall_2020.ipynb\" target=\"_parent\"><img src=\"https://colab.research.google.com/assets/colab-badge.svg\" alt=\"Open In Colab\"/></a>"
      ]
    },
    {
      "cell_type": "markdown",
      "metadata": {
        "id": "mkXYF0anRFK9",
        "colab_type": "text"
      },
      "source": [
        "## Comparing two songs"
      ]
    },
    {
      "cell_type": "markdown",
      "metadata": {
        "id": "NVKMLwEfRFLH",
        "colab_type": "text"
      },
      "source": [
        "If you have gone through the notebook that walks through the steps of audio fingerprinting, then the next step is to follow these steps for two songs and identify whether they match or not.\n",
        "\n",
        "We demonstrate how you can compare two audio signals for similarity using audio fingerprinting. We make use of the AudioFP class. To understand the basic steps in audio fingerprinting, go through the notebook titled \"How_Audiofingerprinting_works\""
      ]
    },
    {
      "cell_type": "code",
      "metadata": {
        "id": "llu2Ierxiwt8",
        "colab_type": "code",
        "colab": {
          "base_uri": "https://localhost:8080/",
          "height": 1000
        },
        "outputId": "eb645c6c-0eb8-49c0-9fe8-c04bf11612b2"
      },
      "source": [
        "%%bash\n",
        "!(stat -t /usr/local/lib/*/dist-packages/google/colab > /dev/null 2>&1) && exit \n",
        "rm -rf audio-fingerprinting\n",
        "git clone https://github.com/gened1080/audio-fingerprinting.git\n",
        "pip install pydub\n",
        "pip install datasketch\n",
        "sudo apt-get install libasound-dev portaudio19-dev libportaudio2 libportaudiocpp0 ffmpeg\n",
        "pip install pyaudio"
      ],
      "execution_count": 1,
      "outputs": [
        {
          "output_type": "stream",
          "text": [
            "Collecting pydub\n",
            "  Downloading https://files.pythonhosted.org/packages/7b/d1/fbfa79371a8cd9bb15c2e3c480d7e6e340ed5cc55005174e16f48418333a/pydub-0.24.1-py2.py3-none-any.whl\n",
            "Installing collected packages: pydub\n",
            "Successfully installed pydub-0.24.1\n",
            "Collecting datasketch\n",
            "  Downloading https://files.pythonhosted.org/packages/e9/7a/975274a59ab7e0117a8304ae97220b5800d31f69813c97753a79239dabac/datasketch-1.5.1-py2.py3-none-any.whl (73kB)\n",
            "Requirement already satisfied: numpy>=1.11 in /usr/local/lib/python3.6/dist-packages (from datasketch) (1.18.5)\n",
            "Installing collected packages: datasketch\n",
            "Successfully installed datasketch-1.5.1\n",
            "Reading package lists...\n",
            "Building dependency tree...\n",
            "Reading state information...\n",
            "libasound2-dev is already the newest version (1.1.3-5ubuntu0.5).\n",
            "ffmpeg is already the newest version (7:3.4.8-0ubuntu0.2).\n",
            "The following package was automatically installed and is no longer required:\n",
            "  libnvidia-common-440\n",
            "Use 'sudo apt autoremove' to remove it.\n",
            "Suggested packages:\n",
            "  portaudio19-doc\n",
            "The following NEW packages will be installed:\n",
            "  libportaudio2 libportaudiocpp0 portaudio19-dev\n",
            "0 upgraded, 3 newly installed, 0 to remove and 35 not upgraded.\n",
            "Need to get 184 kB of archives.\n",
            "After this operation, 891 kB of additional disk space will be used.\n",
            "Get:1 http://archive.ubuntu.com/ubuntu bionic/universe amd64 libportaudio2 amd64 19.6.0-1 [64.6 kB]\n",
            "Get:2 http://archive.ubuntu.com/ubuntu bionic/universe amd64 libportaudiocpp0 amd64 19.6.0-1 [15.1 kB]\n",
            "Get:3 http://archive.ubuntu.com/ubuntu bionic/universe amd64 portaudio19-dev amd64 19.6.0-1 [104 kB]\n",
            "Fetched 184 kB in 1s (267 kB/s)\n",
            "Selecting previously unselected package libportaudio2:amd64.\r\n",
            "(Reading database ... \r(Reading database ... 5%\r(Reading database ... 10%\r(Reading database ... 15%\r(Reading database ... 20%\r(Reading database ... 25%\r(Reading database ... 30%\r(Reading database ... 35%\r(Reading database ... 40%\r(Reading database ... 45%\r(Reading database ... 50%\r(Reading database ... 55%\r(Reading database ... 60%\r(Reading database ... 65%\r(Reading database ... 70%\r(Reading database ... 75%\r(Reading database ... 80%\r(Reading database ... 85%\r(Reading database ... 90%\r(Reading database ... 95%\r(Reading database ... 100%\r(Reading database ... 144487 files and directories currently installed.)\r\n",
            "Preparing to unpack .../libportaudio2_19.6.0-1_amd64.deb ...\r\n",
            "Unpacking libportaudio2:amd64 (19.6.0-1) ...\r\n",
            "Selecting previously unselected package libportaudiocpp0:amd64.\r\n",
            "Preparing to unpack .../libportaudiocpp0_19.6.0-1_amd64.deb ...\r\n",
            "Unpacking libportaudiocpp0:amd64 (19.6.0-1) ...\r\n",
            "Selecting previously unselected package portaudio19-dev:amd64.\r\n",
            "Preparing to unpack .../portaudio19-dev_19.6.0-1_amd64.deb ...\r\n",
            "Unpacking portaudio19-dev:amd64 (19.6.0-1) ...\r\n",
            "Setting up libportaudio2:amd64 (19.6.0-1) ...\r\n",
            "Setting up libportaudiocpp0:amd64 (19.6.0-1) ...\r\n",
            "Setting up portaudio19-dev:amd64 (19.6.0-1) ...\r\n",
            "Processing triggers for libc-bin (2.27-3ubuntu1) ...\r\n",
            "/sbin/ldconfig.real: /usr/local/lib/python3.6/dist-packages/ideep4py/lib/libmkldnn.so.0 is not a symbolic link\r\n",
            "\r\n",
            "Collecting pyaudio\n",
            "  Downloading https://files.pythonhosted.org/packages/ab/42/b4f04721c5c5bfc196ce156b3c768998ef8c0ae3654ed29ea5020c749a6b/PyAudio-0.2.11.tar.gz\n",
            "Building wheels for collected packages: pyaudio\n",
            "  Building wheel for pyaudio (setup.py): started\n",
            "  Building wheel for pyaudio (setup.py): finished with status 'done'\n",
            "  Created wheel for pyaudio: filename=PyAudio-0.2.11-cp36-cp36m-linux_x86_64.whl size=51625 sha256=96aca74ba3f809ca65d4ca9d817d36c5d54cf0661716cd8db1e27814d1aea7d4\n",
            "  Stored in directory: /root/.cache/pip/wheels/f4/a8/a4/292214166c2917890f85b2f72a8e5f13e1ffa527c4200dcede\n",
            "Successfully built pyaudio\n",
            "Installing collected packages: pyaudio\n",
            "Successfully installed pyaudio-0.2.11\n"
          ],
          "name": "stdout"
        },
        {
          "output_type": "stream",
          "text": [
            "Cloning into 'audio-fingerprinting'...\n",
            "debconf: unable to initialize frontend: Dialog\n",
            "debconf: (No usable dialog-like program is installed, so the dialog based frontend cannot be used. at /usr/share/perl5/Debconf/FrontEnd/Dialog.pm line 76, <> line 3.)\n",
            "debconf: falling back to frontend: Readline\n",
            "debconf: unable to initialize frontend: Readline\n",
            "debconf: (This frontend requires a controlling tty.)\n",
            "debconf: falling back to frontend: Teletype\n",
            "dpkg-preconfigure: unable to re-open stdin: \n"
          ],
          "name": "stderr"
        }
      ]
    },
    {
      "cell_type": "code",
      "metadata": {
        "id": "umQ2r9mURFLM",
        "colab_type": "code",
        "colab": {}
      },
      "source": [
        "# Import relevant packages\n",
        "\n",
        "from bokeh.io import output_notebook\n",
        "import warnings\n",
        "import sys\n",
        "sys.path.append('/content/audio-fingerprinting')\n",
        "import AudioFP as afp\n",
        "\n",
        "warnings.filterwarnings('ignore')\n",
        "output_notebook()"
      ],
      "execution_count": 2,
      "outputs": []
    },
    {
      "cell_type": "markdown",
      "metadata": {
        "id": "O4uRNjt3RFL-",
        "colab_type": "text"
      },
      "source": [
        "### Fingerprinting two songs\n",
        "\n",
        "We will first generate the audio fingerprints for two songs. Follow the prompts to go through the steps to figerprint an audio signal."
      ]
    },
    {
      "cell_type": "code",
      "metadata": {
        "scrolled": false,
        "id": "VJPaZIpRRFMA",
        "colab_type": "code",
        "colab": {}
      },
      "source": [
        "# Create AudioFP object for first song\n",
        "song1 = afp.AudioFP(process='a')"
      ],
      "execution_count": null,
      "outputs": []
    },
    {
      "cell_type": "markdown",
      "metadata": {
        "id": "zKGKnohARFMH",
        "colab_type": "text"
      },
      "source": [
        "Again, execute the cell below and follow the prompts to run through the steps of fingerprinting."
      ]
    },
    {
      "cell_type": "code",
      "metadata": {
        "scrolled": false,
        "id": "nT2OgAe9RFMI",
        "colab_type": "code",
        "colab": {}
      },
      "source": [
        "# Create AudioFP object for second song\n",
        "song2 = afp.AudioFP(process='a')"
      ],
      "execution_count": null,
      "outputs": []
    },
    {
      "cell_type": "markdown",
      "metadata": {
        "id": "GlsKHdmIRFMa",
        "colab_type": "text"
      },
      "source": [
        "### Comparing fingerprints\n",
        "\n",
        "For comparing two fingerprints, we will calculate what is known as the Jaccard similarity. Jaccard similarity, mathematically is the size of the intersection divided by the size of the union between two givent sets. Thus, two identical sets would have a Jaccard similarity index of 1 while entirely dissimilar sets would result in 0. A number in between 0 and 1 indicates some similarity, however, there isn't any rule specifying how \"similar\" are two songs with a Jaccard similarity index of say 0.7 for instance. All we can say at this point is that closer the Jaccard similarity index of two songs is to 1 the more similar they are."
      ]
    },
    {
      "cell_type": "code",
      "metadata": {
        "id": "3nlMhvOpRFMn",
        "colab_type": "code",
        "colab": {}
      },
      "source": [
        "# Compare the fingerprints to check their similarity\n",
        "afp.compare_fingerprints(song1, song2)"
      ],
      "execution_count": null,
      "outputs": []
    },
    {
      "cell_type": "code",
      "metadata": {
        "id": "iqZ_r51sRFM5",
        "colab_type": "code",
        "colab": {}
      },
      "source": [
        ""
      ],
      "execution_count": null,
      "outputs": []
    }
  ]
}