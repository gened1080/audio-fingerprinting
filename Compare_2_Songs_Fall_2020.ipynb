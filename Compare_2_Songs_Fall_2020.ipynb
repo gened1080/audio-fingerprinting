{
  "nbformat": 4,
  "nbformat_minor": 0,
  "metadata": {
    "kernelspec": {
      "display_name": "python3",
      "language": "python",
      "name": "python3"
    },
    "language_info": {
      "codemirror_mode": {
        "name": "ipython",
        "version": 3
      },
      "file_extension": ".py",
      "mimetype": "text/x-python",
      "name": "python",
      "nbconvert_exporter": "python",
      "pygments_lexer": "ipython3",
      "version": "3.7.3"
    },
    "colab": {
      "name": "Compare 2 Songs Fall 2020.ipynb",
      "provenance": [],
      "include_colab_link": true
    }
  },
  "cells": [
    {
      "cell_type": "markdown",
      "metadata": {
        "id": "view-in-github",
        "colab_type": "text"
      },
      "source": [
        "<a href=\"https://colab.research.google.com/github/gened1080/audio-fingerprinting/blob/master/Compare_2_Songs_Fall_2020.ipynb\" target=\"_parent\"><img src=\"https://colab.research.google.com/assets/colab-badge.svg\" alt=\"Open In Colab\"/></a>"
      ]
    },
    {
      "cell_type": "markdown",
      "metadata": {
        "id": "mkXYF0anRFK9"
      },
      "source": [
        "## Comparing two songs"
      ]
    },
    {
      "cell_type": "markdown",
      "metadata": {
        "id": "NVKMLwEfRFLH"
      },
      "source": [
        "If you have gone through the notebook that walks through the steps of audio fingerprinting, then the next step is to follow these steps for two songs and identify whether they match or not.\n",
        "\n",
        "We demonstrate how you can compare two audio signals for similarity using audio fingerprinting. We make use of the AudioFP class. To understand the basic steps in audio fingerprinting, go through the notebook titled \"How_Audiofingerprinting_works\""
      ]
    },
    {
      "cell_type": "code",
      "metadata": {
        "id": "llu2Ierxiwt8",
        "colab": {
          "base_uri": "https://localhost:8080/"
        },
        "outputId": "a881d0d3-dab5-454a-beb3-2bb59e66e85d"
      },
      "source": [
        "%%bash\n",
        "!(stat -t /usr/local/lib/*/dist-packages/google/colab > /dev/null 2>&1) && exit \n",
        "rm -rf audio-fingerprinting\n",
        "git clone https://github.com/gened1080/audio-fingerprinting.git\n",
        "pip install pydub\n",
        "pip install pyhash\n",
        "pip install datasketch\n",
        "sudo apt-get install libasound-dev portaudio19-dev libportaudio2 libportaudiocpp0 ffmpeg\n",
        "pip install pyaudio"
      ],
      "execution_count": 6,
      "outputs": [
        {
          "output_type": "stream",
          "name": "stdout",
          "text": [
            "Requirement already satisfied: pydub in /usr/local/lib/python3.7/dist-packages (0.25.1)\n",
            "Requirement already satisfied: datasketch in /usr/local/lib/python3.7/dist-packages (1.5.3)\n",
            "Requirement already satisfied: numpy>=1.11 in /usr/local/lib/python3.7/dist-packages (from datasketch) (1.19.5)\n",
            "Reading package lists...\n",
            "Building dependency tree...\n",
            "Reading state information...\n",
            "libportaudio2 is already the newest version (19.6.0-1).\n",
            "libportaudiocpp0 is already the newest version (19.6.0-1).\n",
            "portaudio19-dev is already the newest version (19.6.0-1).\n",
            "libasound2-dev is already the newest version (1.1.3-5ubuntu0.6).\n",
            "ffmpeg is already the newest version (7:3.4.8-0ubuntu0.2).\n",
            "0 upgraded, 0 newly installed, 0 to remove and 37 not upgraded.\n",
            "Requirement already satisfied: pyaudio in /usr/local/lib/python3.7/dist-packages (0.2.11)\n"
          ]
        },
        {
          "output_type": "stream",
          "name": "stderr",
          "text": [
            "Cloning into 'audio-fingerprinting'...\n"
          ]
        }
      ]
    },
    {
      "cell_type": "code",
      "metadata": {
        "id": "umQ2r9mURFLM"
      },
      "source": [
        "# Import relevant packages\n",
        "\n",
        "from bokeh.io import output_notebook\n",
        "import warnings\n",
        "import sys\n",
        "sys.path.append('/content/audio-fingerprinting')\n",
        "import AudioFP as afp\n",
        "\n",
        "warnings.filterwarnings('ignore')\n",
        "output_notebook()"
      ],
      "execution_count": 7,
      "outputs": []
    },
    {
      "cell_type": "markdown",
      "metadata": {
        "id": "O4uRNjt3RFL-"
      },
      "source": [
        "### Fingerprinting two songs\n",
        "\n",
        "We will first generate the audio fingerprints for two songs. Follow the prompts to go through the steps to figerprint an audio signal."
      ]
    },
    {
      "cell_type": "code",
      "metadata": {
        "scrolled": false,
        "id": "VJPaZIpRRFMA",
        "colab": {
          "base_uri": "https://localhost:8080/"
        },
        "outputId": "a5d49b8d-d784-4c00-c0f7-8246b5c1a65f"
      },
      "source": [
        "# Create AudioFP object for first song\n",
        "song1 = afp.AudioFP(process='a')"
      ],
      "execution_count": 8,
      "outputs": [
        {
          "output_type": "stream",
          "name": "stdout",
          "text": [
            "Enter \"f\" to read from audio file or \"s\" to open saved fingerprint: f\n",
            "Enter the filename you want to read (excluding the extension): queen_under_pressure\n",
            "Do you want to show all plots? Enter \"y\" or \"n\": n\n",
            "Do you want to save the fingerprint to file for later use? Enter \"y\" or \"n\": n\n",
            "Not saving anything\n"
          ]
        }
      ]
    },
    {
      "cell_type": "markdown",
      "metadata": {
        "id": "zKGKnohARFMH"
      },
      "source": [
        "Again, execute the cell below and follow the prompts to run through the steps of fingerprinting."
      ]
    },
    {
      "cell_type": "code",
      "metadata": {
        "scrolled": false,
        "id": "nT2OgAe9RFMI",
        "colab": {
          "base_uri": "https://localhost:8080/"
        },
        "outputId": "b95f95bb-297e-4b27-e4bd-cadfcfd2797f"
      },
      "source": [
        "# Create AudioFP object for second song\n",
        "song2 = afp.AudioFP(process='a')"
      ],
      "execution_count": 9,
      "outputs": [
        {
          "output_type": "stream",
          "name": "stdout",
          "text": [
            "Enter \"f\" to read from audio file or \"s\" to open saved fingerprint: f\n",
            "Enter the filename you want to read (excluding the extension): vanilla_ice_ice_ice_baby\n",
            "Do you want to show all plots? Enter \"y\" or \"n\": n\n",
            "Do you want to save the fingerprint to file for later use? Enter \"y\" or \"n\": n\n",
            "Not saving anything\n"
          ]
        }
      ]
    },
    {
      "cell_type": "markdown",
      "metadata": {
        "id": "GlsKHdmIRFMa"
      },
      "source": [
        "### Comparing fingerprints\n",
        "\n",
        "For comparing two fingerprints, we will calculate what is known as the Jaccard similarity. Jaccard similarity, mathematically is the size of the intersection divided by the size of the union between two givent sets. Thus, two identical sets would have a Jaccard similarity index of 1 while entirely dissimilar sets would result in 0. A number in between 0 and 1 indicates some similarity, however, there isn't any rule specifying how \"similar\" are two songs with a Jaccard similarity index of say 0.7 for instance. All we can say at this point is that closer the Jaccard similarity index of two songs is to 1 the more similar they are."
      ]
    },
    {
      "cell_type": "code",
      "metadata": {
        "id": "3nlMhvOpRFMn",
        "colab": {
          "base_uri": "https://localhost:8080/"
        },
        "outputId": "44437bb9-1038-4242-8df5-8ed023fedb02"
      },
      "source": [
        "# Compare the fingerprints to check their similarity\n",
        "afp.compare_fingerprints(song1, song2)"
      ],
      "execution_count": 10,
      "outputs": [
        {
          "output_type": "stream",
          "name": "stdout",
          "text": [
            "queen_under_pressure and vanilla_ice_ice_ice_baby are different\n",
            "Jaccard similarity =  0.0\n"
          ]
        }
      ]
    },
    {
      "cell_type": "code",
      "metadata": {
        "id": "iqZ_r51sRFM5"
      },
      "source": [
        ""
      ],
      "execution_count": null,
      "outputs": []
    }
  ]
}