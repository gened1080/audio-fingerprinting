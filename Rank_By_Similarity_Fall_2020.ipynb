{
  "nbformat": 4,
  "nbformat_minor": 0,
  "metadata": {
    "kernelspec": {
      "display_name": "python3",
      "language": "python",
      "name": "python3"
    },
    "language_info": {
      "codemirror_mode": {
        "name": "ipython",
        "version": 3
      },
      "file_extension": ".py",
      "mimetype": "text/x-python",
      "name": "python",
      "nbconvert_exporter": "python",
      "pygments_lexer": "ipython3",
      "version": "3.7.3"
    },
    "colab": {
      "name": "Rank By Similarity Fall 2020",
      "provenance": [],
      "include_colab_link": true
    }
  },
  "cells": [
    {
      "cell_type": "markdown",
      "metadata": {
        "id": "view-in-github",
        "colab_type": "text"
      },
      "source": [
        "<a href=\"https://colab.research.google.com/github/gened1080/audio-fingerprinting/blob/master/Rank_By_Similarity_Fall_2020.ipynb\" target=\"_parent\"><img src=\"https://colab.research.google.com/assets/colab-badge.svg\" alt=\"Open In Colab\"/></a>"
      ]
    },
    {
      "cell_type": "markdown",
      "metadata": {
        "id": "PMjVsnhkRG4j"
      },
      "source": [
        "## Rank by similarity"
      ]
    },
    {
      "cell_type": "markdown",
      "metadata": {
        "id": "WclxbleNRG4l"
      },
      "source": [
        "This notebook allows you to pick a song to fingerprint and then go through the process of fingerprinting multiple songs which are then ranked by similarity to the chosen song."
      ]
    },
    {
      "cell_type": "code",
      "metadata": {
        "id": "KoMfcZlDj8Mp",
        "outputId": "fd5cbd48-baf4-4474-848b-7a20f49fc607",
        "colab": {
          "base_uri": "https://localhost:8080/"
        }
      },
      "source": [
        "%%bash\n",
        "!(stat -t /usr/local/lib/*/dist-packages/google/colab > /dev/null 2>&1) && exit \n",
        "rm -rf audio-fingerprinting\n",
        "git clone https://github.com/gened1080/audio-fingerprinting.git\n",
        "pip install pydub\n",
        "pip install datasketch\n",
        "sudo apt-get install libasound-dev portaudio19-dev libportaudio2 libportaudiocpp0 ffmpeg\n",
        "pip install pyaudio"
      ],
      "execution_count": 2,
      "outputs": [
        {
          "output_type": "stream",
          "name": "stdout",
          "text": [
            "Requirement already satisfied: pydub in /usr/local/lib/python3.7/dist-packages (0.25.1)\n",
            "Requirement already satisfied: datasketch in /usr/local/lib/python3.7/dist-packages (1.5.3)\n",
            "Requirement already satisfied: numpy>=1.11 in /usr/local/lib/python3.7/dist-packages (from datasketch) (1.19.5)\n",
            "Reading package lists...\n",
            "Building dependency tree...\n",
            "Reading state information...\n",
            "libportaudio2 is already the newest version (19.6.0-1).\n",
            "libportaudiocpp0 is already the newest version (19.6.0-1).\n",
            "portaudio19-dev is already the newest version (19.6.0-1).\n",
            "libasound2-dev is already the newest version (1.1.3-5ubuntu0.6).\n",
            "ffmpeg is already the newest version (7:3.4.8-0ubuntu0.2).\n",
            "0 upgraded, 0 newly installed, 0 to remove and 37 not upgraded.\n",
            "Requirement already satisfied: pyaudio in /usr/local/lib/python3.7/dist-packages (0.2.11)\n"
          ]
        },
        {
          "output_type": "stream",
          "name": "stderr",
          "text": [
            "Cloning into 'audio-fingerprinting'...\n"
          ]
        }
      ]
    },
    {
      "cell_type": "code",
      "metadata": {
        "id": "3uw0-BuZRG4n"
      },
      "source": [
        "# Import relevant packages\n",
        "\n",
        "from bokeh.io import output_notebook\n",
        "import warnings\n",
        "import sys\n",
        "sys.path.append('/content/audio-fingerprinting')\n",
        "import AudioFP as afp\n",
        "import os\n",
        "\n",
        "warnings.filterwarnings('ignore')\n",
        "output_notebook()"
      ],
      "execution_count": 3,
      "outputs": []
    },
    {
      "cell_type": "markdown",
      "metadata": {
        "id": "1Y3xepj9RG40"
      },
      "source": [
        "### Fingerprint a song\n",
        "We start by first picking a chosen song. Execute the code below and follow the prompts to select a song and fingerprint it. If you have already saved the fingerprint of that song, enter `s` to open the saved fingerprint."
      ]
    },
    {
      "cell_type": "code",
      "metadata": {
        "scrolled": false,
        "id": "Q4Kros5DRG43",
        "outputId": "eb3ca8ea-8cee-4b60-fcd4-f68ceae95e51",
        "colab": {
          "base_uri": "https://localhost:8080/"
        }
      },
      "source": [
        "# Choose the song to rank by similarity against\n",
        "chosen_song = afp.AudioFP(process='a')"
      ],
      "execution_count": 4,
      "outputs": [
        {
          "output_type": "stream",
          "name": "stdout",
          "text": [
            "Enter \"f\" to read from audio file or \"s\" to open saved fingerprint: f\n",
            "Enter the filename you want to read (excluding the extension): queen_under_pressure\n",
            "Do you want to show all plots? Enter \"y\" or \"n\": n\n",
            "Do you want to save the fingerprint to file for later use? Enter \"y\" or \"n\": n\n",
            "Not saving anything\n"
          ]
        }
      ]
    },
    {
      "cell_type": "markdown",
      "metadata": {
        "id": "kRVXpaddRG8D"
      },
      "source": [
        "### Fingerprinting multiple songs\n",
        "Read all the files in the folder `songs` and fingerprint all the `.mp3` files."
      ]
    },
    {
      "cell_type": "code",
      "metadata": {
        "id": "ZvBP2rlwRG8M"
      },
      "source": [
        "# Obtain current path\n",
        "mypath = os.getcwd() + '/audio-fingerprinting/songs'\n",
        "# Get list of all files\n",
        "all_files = next(os.walk(mypath))[2]\n",
        "songfiles = []\n",
        "# count and get names of all .mp3 files\n",
        "for file in all_files:\n",
        "    name, extension = file.rsplit('.', 1)\n",
        "    if extension == 'mp3':\n",
        "        songfiles.append(name)\n",
        "num_songs = len(songfiles)\n",
        "# Create AudioFP objects for each .mp3 file\n",
        "afp_objs = [afp.AudioFP(process='m') for i in range(num_songs)]\n",
        "index = 0\n",
        "# Generate Audio fingerprints for all tracks\n",
        "for song in afp_objs:\n",
        "    channels, framerate = afp.AudioFP.read_audiofile(song, False, songfiles[index])\n",
        "    f, t, sgram = afp.AudioFP.generate_spectrogram(song, False, channels, framerate)\n",
        "    fp, tp, peaks = afp.AudioFP.find_peaks(song, False, f, t, sgram)\n",
        "    fp = afp.AudioFP.generate_fingerprint(song, False, fp, tp, peaks)\n",
        "    index += 1"
      ],
      "execution_count": 5,
      "outputs": []
    },
    {
      "cell_type": "markdown",
      "metadata": {
        "id": "LSqxR3GcRHAG"
      },
      "source": [
        "### Comparing and ranking\n",
        "\n",
        "All the songs fingerprinted in the step above will be compared to the chosen song. The comparison is done by calculating Jaccard similarity index. Closer this index is to 1, more similar the songs."
      ]
    },
    {
      "cell_type": "code",
      "metadata": {
        "id": "EZFgnhzbRHAI",
        "outputId": "2e2e6e76-8fce-47f2-851d-60892d9141d7",
        "colab": {
          "base_uri": "https://localhost:8080/"
        }
      },
      "source": [
        "# Comparing songs and creating a ranked list\n",
        "ranked_list = []\n",
        "for song in afp_objs:\n",
        "    ranked_list.append((song.songname, afp.calc_jaccard(chosen_song, song)))\n",
        "ranked_list = sorted(ranked_list, key=lambda x: x[1], reverse=True)\n",
        "\n",
        "# Print out the results\n",
        "print('List of songs ranked in order of similarity to {}'.format(chosen_song.songname))\n",
        "print('')\n",
        "print('Rank, Song Name, Jaccard similarity index')\n",
        "for item, n in zip(ranked_list, range(num_songs)):\n",
        "    print(n+1, item[0], item[1])"
      ],
      "execution_count": 6,
      "outputs": [
        {
          "output_type": "stream",
          "name": "stdout",
          "text": [
            "List of songs ranked in order of similarity to queen_under_pressure\n",
            "\n",
            "Rank, Song Name, Jaccard similarity index\n",
            "1 queen_under_pressure 1.0\n",
            "2 queen_david_bowie_under_pressure_classic_queen_mix 1.0\n",
            "3 SoundHelix-Song-12 0.011923905441552642\n",
            "4 SoundHelix-Song-1 0.0001483757026003439\n",
            "5 vanilla_ice_ice_ice_baby -0.0031594663881128983\n",
            "6 SoundHelix-Song-8 -0.006092039038546704\n",
            "7 SoundHelix-Song-4 -0.016741140637581076\n"
          ]
        }
      ]
    },
    {
      "cell_type": "code",
      "metadata": {
        "id": "-K2s0K0uRHAS"
      },
      "source": [
        ""
      ],
      "execution_count": null,
      "outputs": []
    }
  ]
}