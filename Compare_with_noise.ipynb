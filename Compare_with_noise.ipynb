{
 "cells": [
  {
   "cell_type": "markdown",
   "metadata": {},
   "source": [
    "## Comparing a signal with itself while adding noise"
   ]
  },
  {
   "cell_type": "markdown",
   "metadata": {},
   "source": [
    "With this notebook you can compare an audio signal with itself while adding noise to it using the AudioFP class for fingerprinting. The idea is to get a sense of how noise affects audio fingerprinting and the comparison of fingerprints."
   ]
  },
  {
   "cell_type": "code",
   "execution_count": null,
   "metadata": {},
   "outputs": [],
   "source": [
    "# Import relevant packages\n",
    "\n",
    "from bokeh.io import output_notebook\n",
    "import warnings\n",
    "import sys\n",
    "import AudioFP as afp\n",
    "import os\n",
    "\n",
    "warnings.filterwarnings('ignore')\n",
    "output_notebook()"
   ]
  },
  {
   "cell_type": "markdown",
   "metadata": {},
   "source": [
    "### Fingerprint a song\n",
    "\n",
    "We start by first fingerprinting a song. "
   ]
  },
  {
   "cell_type": "code",
   "execution_count": null,
   "metadata": {
    "scrolled": false
   },
   "outputs": [],
   "source": [
    "# Create AudioFP object for first song \n",
    "song1 = afp.AudioFP(process='a')  # When prompted to choose whether to read audiofile or saved fingerprint, \n",
    "                                  # enter \"f\" to read from audiofile\n",
    "                                  # because we need the raw signal to add noise."
   ]
  },
  {
   "cell_type": "markdown",
   "metadata": {},
   "source": [
    "### Add noise to the signal and fingerprint the noisy track\n",
    "\n",
    "Next, we create another `AudioFP` object. This time we proceed manually by setting the `process` argument to `m`. We start by creating an empty object and manually setting its `framerate` and `songname` properties based on the original signal. Next, we will use the function `add_noise` defined in the `AudioFP` class to generate Gaussian white noise of a specified decibel level and add to the signal. See [this page](https://chchearing.org/noise/common-environmental-noise-levels/) for common noise levels in decibels. The function `add_noise` takes the audio signal and its framerate as inputs in that order and outputs the signal with the added noise. Finally, we will go through the steps to generate a fingerprint of the signal with the noise."
   ]
  },
  {
   "cell_type": "code",
   "execution_count": null,
   "metadata": {
    "scrolled": false
   },
   "outputs": [],
   "source": [
    "# Create another AudioFP object from the same file and add noise\n",
    "song2 = afp.AudioFP(process='m')\n",
    "plot = False  # boolean to display results\n",
    "song2.songname = 'noisy_' + song1.songname \n",
    "filename = song1.songname\n",
    "channels, song2.framerate = afp.AudioFP.read_audiofile(song2, plot, filename)\n",
    "# Add noise to the signal\n",
    "channels = afp.add_noise(channels, song2.framerate)\n",
    "# Create audio fingerprint\n",
    "f, t, sgram = afp.AudioFP.generate_spectrogram(song2, plot, channels, song2.framerate)\n",
    "fp, tp, peaks = afp.AudioFP.find_peaks(song2, plot, f, t, sgram)\n",
    "afp.AudioFP.generate_fingerprint(song2, plot, fp, tp, peaks)"
   ]
  },
  {
   "cell_type": "markdown",
   "metadata": {},
   "source": [
    "### Comparing fingerprints\n",
    "\n",
    "For comparing two fingerprints, we will calculate what is known as the Jaccard similarity. Jaccard similarity, mathematically is the size of the intersection divided by the size of the union between two givent sets. Thus, two identical sets would have a Jaccard similarity index of 1 while entirely dissimilar sets would result in 0. A number in between 0 and 1 indicates some similarity, however, there isn't any rule specifying how \"similar\" are two songs with a Jaccard similarity index of say 0.7 for instance. All we can say at this point is that closer the Jaccard similarity index of two songs is to 1 the more similar they are. One could use [bootstrapping](https://en.wikipedia.org/wiki/Bootstrapping_(statistics)) to determine the extent of similarity of an arbitrary similarity score. Below, we have used some ranges based on some intuition using a small set of songs. The function `compare_fingerprints` is defined in the `AudioFP` class. If you want to see how the ranges are defined, take a look at the file `AudioFP.py`."
   ]
  },
  {
   "cell_type": "code",
   "execution_count": null,
   "metadata": {},
   "outputs": [],
   "source": [
    "afp.compare_fingerprints(song1, song2)"
   ]
  },
  {
   "cell_type": "code",
   "execution_count": null,
   "metadata": {},
   "outputs": [],
   "source": []
  }
 ],
 "metadata": {
  "kernelspec": {
   "display_name": "python3",
   "language": "python",
   "name": "python3"
  },
  "language_info": {
   "codemirror_mode": {
    "name": "ipython",
    "version": 3
   },
   "file_extension": ".py",
   "mimetype": "text/x-python",
   "name": "python",
   "nbconvert_exporter": "python",
   "pygments_lexer": "ipython3",
   "version": "3.7.3"
  }
 },
 "nbformat": 4,
 "nbformat_minor": 2
}
